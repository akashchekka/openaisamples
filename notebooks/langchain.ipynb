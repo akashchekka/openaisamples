{
 "cells": [
  {
   "cell_type": "markdown",
   "metadata": {},
   "source": [
    "# Langchain: Upload Documents"
   ]
  },
  {
   "cell_type": "code",
   "execution_count": null,
   "metadata": {},
   "outputs": [],
   "source": [
    "import os\n",
    "from dotenv import load_dotenv\n",
    "load_dotenv()"
   ]
  },
  {
   "cell_type": "code",
   "execution_count": 6,
   "metadata": {},
   "outputs": [],
   "source": [
    "index_name=\"scorp-index-langchain\""
   ]
  },
  {
   "cell_type": "code",
   "execution_count": 3,
   "metadata": {},
   "outputs": [],
   "source": [
    "search_service_endpoint = os.environ[\"AZURE_SEARCH_SERVICE_ENDPOINT\"]\n",
    "search_service_key = os.environ[\"AZURE_SEARCH_API_KEY\"]\n",
    "azure_openai_endpoint = os.environ[\"AZURE_OPENAI_ENDPOINT\"]\n",
    "azure_openai_key = os.getenv(\"AZURE_OPENAI_KEY\", \"\")\n",
    "azure_openai_embedding_deployment = os.getenv(\"AZURE_OPENAI_EMBEDDING_DEPLOYMENT\", \"text-embedding-3-large\")\n",
    "azure_openai_embedding_dimensions = int(os.getenv(\"AZURE_OPENAI_EMBEDDING_DIMENSIONS\", 1024))\n",
    "embedding_model_name = os.getenv(\"AZURE_OPENAI_EMBEDDING_DEPLOYMENT\", \"text-embedding-3-large\")\n",
    "azure_openai_api_version = os.getenv(\"AZURE_OPENAI_API_VERSION\", \"2024-06-01\")"
   ]
  },
  {
   "cell_type": "code",
   "execution_count": 4,
   "metadata": {},
   "outputs": [],
   "source": [
    "from langchain_openai import AzureOpenAIEmbeddings\n",
    "\n",
    "embeddings: AzureOpenAIEmbeddings = AzureOpenAIEmbeddings(\n",
    "    azure_deployment=azure_openai_embedding_deployment,\n",
    "    openai_api_version=azure_openai_api_version,\n",
    "    azure_endpoint=azure_openai_endpoint,\n",
    "    api_key=azure_openai_key,\n",
    "    dimensions=azure_openai_embedding_dimensions\n",
    ")"
   ]
  },
  {
   "cell_type": "code",
   "execution_count": 9,
   "metadata": {},
   "outputs": [],
   "source": [
    "from langchain_community.vectorstores.azuresearch import AzureSearch\n",
    "\n",
    "vector_store: AzureSearch = AzureSearch(\n",
    "    azure_search_endpoint=search_service_endpoint,\n",
    "    azure_search_key=search_service_key,\n",
    "    index_name=index_name,\n",
    "    embedding_function=embeddings.embed_query,\n",
    ")"
   ]
  },
  {
   "cell_type": "code",
   "execution_count": 10,
   "metadata": {},
   "outputs": [
    {
     "data": {
      "text/plain": [
       "['ZDAwNWVmMmYtZTQwNS00NzAzLWE3NDQtOTIyYWI0NzRhYTdl',\n",
       " 'NDdmMDU0ZTMtNDdiNy00OTM5LWI4NWItNTk3N2QzMTEyYWMz',\n",
       " 'NWNjMzVmYzctYzJkOS00NGYxLWIwZTAtZGQwODgzZjM5N2M2',\n",
       " 'OGM4ODlhMDktNTg4Mi00OGQzLWE1NDMtZDZlNjMzNjU5YmY0',\n",
       " 'M2U4Y2Q5ZDctMmYzZS00OTAzLWIyZGMtYTRlNGE1MTFmM2Zm',\n",
       " 'MDFjZDVlZDYtYzY3Ni00MDcxLWJkMjAtMTM1NmQzZTkyODBh',\n",
       " 'ZjU4ZTYyMmYtMDcyMy00Y2RhLWIxOTktYmI2N2I4MjQ1ZTM2',\n",
       " 'NWRjNjhmMGYtMzZmYi00Y2NiLThmMGItNGI2OGQ5ZTZmZjY4',\n",
       " 'YjNlMDQ0NzAtMTYxYy00MzkzLWJiYmEtYjBmODNiZjcxMzE1',\n",
       " 'MjY2MzAxOWItZTA4OC00NzRhLWEzN2ItM2U1YThjYzc0YmEx',\n",
       " 'NzI2ODlhNTctMDE2NC00Y2I1LThhNTctYTVmYTg4ZjIyMTk3',\n",
       " 'MjNmMDUyNWEtMzE1OS00NWZiLTg1N2YtMGRiNTQ2MjM2Zjc1',\n",
       " 'NzhiYTk5OGMtMjZiZS00OTQyLTk2MWMtOGIxZTJjYjM2Y2Qz',\n",
       " 'NmJmZWZkNzgtMWIxZC00OTZhLWIxY2YtZTI3ODVjNmI2YzI3',\n",
       " 'ODhlZWQ1OGYtYTQ4Ni00NzI3LTg2YWQtMDk1MDU4ZWNhY2Yy',\n",
       " 'YTE3NjQwNGItMjZiNS00OGNiLTlkY2YtMmU4YjRmNDY0ZTgx',\n",
       " 'MDgzNWE0YTAtYTgxMC00YjJjLThmZDktOTZjZDBiYjEzYjg0',\n",
       " 'YzIxZmZiMDktMzJkOS00MDk4LWFhMGQtMGY1OTJmNWQ0OTNk',\n",
       " 'N2I1ZTFmNTktMmZhYi00NTBkLWI5YTQtMmM2NjAwMzE5MDA5',\n",
       " 'MjYyYzk0NmYtMTYzMC00MzRlLWI5MGUtZDc5OTFhZjQ4NDI1',\n",
       " 'MTg2OTE5YjMtZjNlMy00Njk1LWI1NjMtZTU4M2EzMzQwYThm',\n",
       " 'ZTYwMzU1YzctNmFiOS00MTdlLTg5ZjEtMGIyNTNhNGFhMjU3',\n",
       " 'OWY3NGJmYjgtMDMxNi00ZTYwLTkwZDctMWEwZGEyMjBkM2Y5',\n",
       " 'MjUxMWVhYjYtZGNkNC00YmNmLWIxODUtYWZiM2QwMWRjNTBk',\n",
       " 'NzYyMTcwZjYtMzBlMi00OTkzLWI2ZjItNjA4Zjk3M2FlYjJl',\n",
       " 'MjhmMjQwNDEtNWJkOC00MDgzLTk1YTUtMzU4Zjk1MWQzYTc3',\n",
       " 'NGI3MTQ2NmYtZDE2Yy00YzBmLTk4MDMtZWFmNjMxNzQyMTZl',\n",
       " 'N2E2MjRlYjMtMTYwYy00NmY5LWI0NmYtZDNhZDVlZWEwNzI2',\n",
       " 'ODIzOGQzMGItZTU2Zi00ZTUzLWEwZGQtZjE4YmYzOGIwZDU0',\n",
       " 'ZmM1ZDI2OGItOGM2OC00MjI1LWI5MTUtMTgwNTI3OTgyYWU1',\n",
       " 'N2ExMzZhY2EtZTZmZi00MDRjLTkwZTgtYjE3MmQ1NTZiYmQ5',\n",
       " 'ZTRhZDdkYTEtNGJlNi00M2QzLWI3MmEtNWRhYmE1MDhiYWRh',\n",
       " 'MTliMGEyNGMtY2VhZi00YjM3LTgxMTAtMjkyOGQ1ZWZkMGJj',\n",
       " 'ZGYzYmNmNGYtYzkyMi00NjY3LWJhMjYtNTI0MTUxOWVlMDli',\n",
       " 'ZjU2NzhhOWQtOWU0ZS00MmY3LWE3NzUtMDkwOGExYjA3OWFk',\n",
       " 'ZWMxMjlmODUtYWM4Yy00YTMyLWE1ODEtZmZlZTFhNDUwMjFl',\n",
       " 'NjI3ZjZlMzMtNTZkYy00ZjQ4LTlhOWItZGNhYzhiOGIzNWVl',\n",
       " 'Nzk0YjYyY2EtZTJlZS00YTIxLWI4YTMtZWU4MjBlMTU2MGJm',\n",
       " 'NmY3N2NmM2YtMjYwNC00M2U1LTgwNjgtNGRjZTYyMmMyZGUy',\n",
       " 'ODMyY2FlNTAtZTZjZS00OTcwLTkwNWItNjM0YWI0ZjczNmE5',\n",
       " 'ZjRiMDA3ZmQtMWQ1NC00YzdlLWEzN2YtZmM0ZGNlMjQzOTFj',\n",
       " 'NTE0NGEzNjYtNDJiZC00YmUxLWEyZWItYzQzODhhNTVlNGFk',\n",
       " 'YTNkNjQwNDgtMzY4Ni00YTEwLTllMzItN2RkYTQ2OTBhNTY1',\n",
       " 'OTk0YmVmYTctMDllYi00MjhjLWJkZTgtOWVkY2M4NWYzNzA2',\n",
       " 'ZDY4MzBiODEtNWJiOS00NTViLTk4YzktMjY3MzJiNzVlYjAw',\n",
       " 'ZjEwMGJiMDAtNmU3Zi00MzM5LWJkYzItNDZiMTk4YTFlYjFj']"
      ]
     },
     "execution_count": 10,
     "metadata": {},
     "output_type": "execute_result"
    }
   ],
   "source": [
    "from langchain_community.document_loaders import PyPDFLoader\n",
    "from langchain_text_splitters import CharacterTextSplitter\n",
    "\n",
    "loader = PyPDFLoader(\"../files/QML-DS.pdf\")\n",
    "\n",
    "documents = loader.load()\n",
    "text_splitter = CharacterTextSplitter(chunk_size=1000, chunk_overlap=0)\n",
    "docs = text_splitter.split_documents(documents)\n",
    "\n",
    "vector_store.add_documents(documents=docs)"
   ]
  },
  {
   "cell_type": "code",
   "execution_count": 8,
   "metadata": {},
   "outputs": [],
   "source": [
    "from langchain_community.vectorstores.azuresearch import AzureSearch\n",
    "\n",
    "vector_store: AzureSearch = AzureSearch(\n",
    "    azure_search_endpoint=search_service_endpoint,\n",
    "    azure_search_key=search_service_key,\n",
    "    index_name=index_name,\n",
    "    embedding_function=embeddings.embed_query,\n",
    "    # Configure max retries for the Azure client\n",
    "    additional_search_client_options={\"retry_total\": 4},\n",
    ")\n",
    "\n",
    "docs = vector_store.similarity_search(\n",
    "    query=\"What is quantum machine learning?\",\n",
    "    k=3,\n",
    "    search_type=\"similarity\",\n",
    ")"
   ]
  },
  {
   "cell_type": "code",
   "execution_count": 1,
   "metadata": {},
   "outputs": [
    {
     "ename": "NameError",
     "evalue": "name 'docs' is not defined",
     "output_type": "error",
     "traceback": [
      "\u001b[1;31m---------------------------------------------------------------------------\u001b[0m",
      "\u001b[1;31mNameError\u001b[0m                                 Traceback (most recent call last)",
      "Cell \u001b[1;32mIn[1], line 1\u001b[0m\n\u001b[1;32m----> 1\u001b[0m \u001b[43mdocs\u001b[49m[\u001b[38;5;241m0\u001b[39m]\n",
      "\u001b[1;31mNameError\u001b[0m: name 'docs' is not defined"
     ]
    }
   ],
   "source": [
    "docs[0]"
   ]
  }
 ],
 "metadata": {
  "kernelspec": {
   "display_name": ".venv",
   "language": "python",
   "name": "python3"
  },
  "language_info": {
   "codemirror_mode": {
    "name": "ipython",
    "version": 3
   },
   "file_extension": ".py",
   "mimetype": "text/x-python",
   "name": "python",
   "nbconvert_exporter": "python",
   "pygments_lexer": "ipython3",
   "version": "3.12.3"
  }
 },
 "nbformat": 4,
 "nbformat_minor": 2
}
