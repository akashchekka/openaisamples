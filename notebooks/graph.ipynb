{
 "cells": [
  {
   "cell_type": "code",
   "execution_count": 1,
   "metadata": {},
   "outputs": [
    {
     "data": {
      "text/plain": [
       "True"
      ]
     },
     "execution_count": 1,
     "metadata": {},
     "output_type": "execute_result"
    }
   ],
   "source": [
    "import os\n",
    "from dotenv import load_dotenv\n",
    "load_dotenv()"
   ]
  },
  {
   "cell_type": "code",
   "execution_count": 2,
   "metadata": {},
   "outputs": [],
   "source": [
    "azure_openai_endpoint = os.environ[\"AZURE_OPENAI_ENDPOINT\"]\n",
    "azure_openai_key = os.environ[\"AZURE_OPENAI_KEY\"]\n",
    "neo4j_url = os.getenv(\"NEO4J_URI\")\n",
    "neo4j_username = os.getenv(\"NEO4J_USERNAME\")\n",
    "neo4j_password = os.getenv(\"NEO4J_PASSWORD\")"
   ]
  },
  {
   "cell_type": "code",
   "execution_count": 4,
   "metadata": {},
   "outputs": [],
   "source": [
    "from langchain_community.graphs import Neo4jGraph\n",
    "\n",
    "graph = Neo4jGraph(database=\"relativity\", url=neo4j_url, username=neo4j_username, password=neo4j_password)"
   ]
  },
  {
   "cell_type": "code",
   "execution_count": null,
   "metadata": {},
   "outputs": [],
   "source": [
    "from langchain.document_loaders import WikipediaLoader\n",
    "\n",
    "raw_documents = WikipediaLoader(query=\"General Relativity\").load()"
   ]
  },
  {
   "cell_type": "code",
   "execution_count": 19,
   "metadata": {},
   "outputs": [],
   "source": [
    "from langchain.text_splitter import TokenTextSplitter\n",
    "\n",
    "text_splitter = TokenTextSplitter(chunk_size=512, chunk_overlap=24)\n",
    "documents = text_splitter.split_documents(raw_documents[:3])"
   ]
  },
  {
   "cell_type": "code",
   "execution_count": 5,
   "metadata": {},
   "outputs": [],
   "source": [
    "from langchain_openai import AzureChatOpenAI, AzureOpenAI\n",
    "\n",
    "llm = AzureChatOpenAI (\n",
    "    openai_api_version=\"2024-05-01-preview\",\n",
    "    api_key=azure_openai_key,\n",
    "    azure_endpoint=azure_openai_endpoint,\n",
    "    azure_deployment=\"gpt-35-turbo-16k\",\n",
    "    temperature=0.0,\n",
    ")\n",
    "\n",
    "llm2 = AzureOpenAI(\n",
    "    openai_api_version=\"2024-05-01-preview\",\n",
    "    api_key=azure_openai_key,\n",
    "    azure_endpoint=azure_openai_endpoint,\n",
    "    azure_deployment=\"gpt-35-turbo-instruct\",\n",
    "    temperature=0.0\n",
    ")"
   ]
  },
  {
   "cell_type": "code",
   "execution_count": 20,
   "metadata": {},
   "outputs": [],
   "source": [
    "from langchain_experimental.graph_transformers import LLMGraphTransformer\n",
    "\n",
    "llm_transformer = LLMGraphTransformer(llm=llm)\n",
    "\n",
    "graph_documents = llm_transformer.convert_to_graph_documents(documents)\n",
    "graph.add_graph_documents(\n",
    "    graph_documents,\n",
    "    baseEntityLabel=True,\n",
    "    include_source=True\n",
    ")"
   ]
  },
  {
   "cell_type": "code",
   "execution_count": 6,
   "metadata": {},
   "outputs": [],
   "source": [
    "from langchain.chains import GraphCypherQAChain\n",
    "\n",
    "graph.refresh_schema()\n",
    "chain = GraphCypherQAChain.from_llm(\n",
    "    llm, graph=graph, verbose=True,\n",
    ")"
   ]
  },
  {
   "cell_type": "code",
   "execution_count": 8,
   "metadata": {},
   "outputs": [
    {
     "name": "stdout",
     "output_type": "stream",
     "text": [
      "\n",
      "\n",
      "\u001b[1m> Entering new GraphCypherQAChain chain...\u001b[0m\n",
      "Generated Cypher:\n",
      "\u001b[32;1m\u001b[1;3mMATCH (:Concept {id: \"General Relativity\"})-[:RELATED_TO]->(relatedConcept:Concept)\n",
      "RETURN relatedConcept\u001b[0m\n",
      "Full Context:\n",
      "\u001b[32;1m\u001b[1;3m[]\u001b[0m\n",
      "\n",
      "\u001b[1m> Finished chain.\u001b[0m\n"
     ]
    },
    {
     "data": {
      "text/plain": [
       "{'query': 'What is General Relativity related to?',\n",
       " 'result': \"I don't know the answer.\"}"
      ]
     },
     "execution_count": 8,
     "metadata": {},
     "output_type": "execute_result"
    }
   ],
   "source": [
    "chain.invoke({\n",
    "    \"query\": \"What is General Relativity related to?\"\n",
    "})"
   ]
  },
  {
   "cell_type": "code",
   "execution_count": 9,
   "metadata": {},
   "outputs": [],
   "source": [
    "from neo4j import GraphDatabase\n",
    "from neo4j.graph import Node\n",
    "\n",
    "def extract_graph_metadata(uri, username, password, database=\"neo4j\"):\n",
    "    driver = GraphDatabase.driver(uri, auth=(username, password), database=database)\n",
    "    \n",
    "    with driver.session() as session:\n",
    "        node_details_query = \"MATCH (n) RETURN n\"\n",
    "        node_details_result = session.run(node_details_query)\n",
    "        node_details = [record[\"n\"] for record in node_details_result]\n",
    "        \n",
    "        relationship_types_query = \"CALL db.relationshipTypes()\"\n",
    "        relationship_types_result = session.run(relationship_types_query)\n",
    "        relationship_types = [record[\"relationshipType\"] for record in relationship_types_result]\n",
    "        \n",
    "        property_keys_query = \"CALL db.propertyKeys()\"     \n",
    "        property_keys_result = session.run(property_keys_query)\n",
    "        property_keys = [record[\"propertyKey\"] for record in property_keys_result]\n",
    "        \n",
    "    return node_details, relationship_types, property_keys\n",
    "\n",
    "uri = neo4j_url\n",
    "username = neo4j_username\n",
    "password = neo4j_password\n",
    "database = \"relativity\"\n",
    "\n",
    "node_details, relationship_types, property_keys = extract_graph_metadata(uri, username, password, database)"
   ]
  },
  {
   "cell_type": "code",
   "execution_count": 10,
   "metadata": {},
   "outputs": [],
   "source": [
    "node_ids = [node['id'] for node in node_details if 'id' in node]\n",
    "node_ids_str = ', '.join(node_ids)\n",
    "\n",
    "relationship_types_str = ', '.join(relationship_types)\n",
    "\n",
    "property_keys_str = ', '.join(property_keys)"
   ]
  },
  {
   "cell_type": "code",
   "execution_count": 11,
   "metadata": {},
   "outputs": [
    {
     "name": "stdout",
     "output_type": "stream",
     "text": [
      "\n",
      "\n",
      "\u001b[1m> Entering new GraphCypherQAChain chain...\u001b[0m\n",
      "Generated Cypher:\n",
      "\u001b[32;1m\u001b[1;3mMATCH (:Concept {id: 'General_Relativity'})-[:RELATED_TO]->(c:Concept)\n",
      "RETURN c.id\u001b[0m\n",
      "Full Context:\n",
      "\u001b[32;1m\u001b[1;3m[{'c.id': 'Energy'}, {'c.id': 'Momentum'}, {'c.id': 'Matter'}, {'c.id': 'Radiation'}]\u001b[0m\n",
      "\n",
      "\u001b[1m> Finished chain.\u001b[0m\n"
     ]
    },
    {
     "data": {
      "text/plain": [
       "{'query': \"\\nThe graph contains 135 nodes with the following IDs: 52dd33d0f600f6c43a8dc97a76dd8a92, General_Relativity, General_Theory_Of_Relativity, Einstein_Theory_Of_Gravity, Albert_Einstein, Gravitation, Modern_Physics, Special_Relativity, Newton_Law_Of_Universal_Gravitation, Gravity, Geometric_Property_Of_Space_And_Time, Four_Dimensional_Spacetime, Curvature_Of_Spacetime, Energy, Momentum, Matter, Radiation, Einstein_Field_Equations, Second_Order_Partial_Differential_Equations, Classical_Gravity, Flat_Spacetime_Geometry, Stationary_Mass_Distributions, Predictions_Of_General_Relativity, Passage_Of_Time, Geometry_Of_Space, Motion_Of_Bodies_In_Free_Fall, Propagation_Of_Light, Gravitational_Time_Dilation, Gravitational_Lensing, Gravitational_Redshift_Of_Light, Shapiro_Time_Delay, Singularities, Black_Holes, Tests_Of_General_Relativity, Time-Dependent_Solutions_Of_General_Relativity, History_Of_The_Universe, Cosmology, Big_Bang, Cosmic_Microwave_Background_Radiation, Reconciliation_Of_General_Relativity_With_Quantum_Physics, Quantum_Gravity, Non-Gravitational_Forces, Strong_Force, Weak_Force, Electromagnetic_Force, Astrophysical_Implications, Space_And_Time, Microquasars, Active_Galactic_Nuclei, Gravitational_Waves, Physics_Collaboration_Ligo, Observatories, 953e90c397bf471ac34189bb4dc5d49d, Gravitational Waves, Physics Collaboration Ligo, General Relativity, Cosmological Models, Expanding Universe, Henri Poincaré, Electron, Relativity, Einstein, Prussian Academy Of Science, Einstein Field Equations, 7e175b0c42a299d0d01108e4d66fa19f, Theory Of Relativity, Special Relativity, Albert Einstein, Physics, Theoretical Physics, Astronomy, Isaac Newton, Mechanics, Spacetime, Relativity Of Simultaneity, Kinematic Time Dilation, Gravitational Time Dilation, Length Contraction, Elementary Particles, Fundamental Interactions, Nuclear Age, Astrophysics, Neutron Stars, Black Holes, Max Planck, Hermann Minkowski, Alfred Bucherer, Physics Community, Atomic Physics, Nuclear Physics, Quantum Mechanics, 8ccc3b36938f4e0d80b48a913b6aaa3d, Mathematical Techniques, Calculations, Visualization, Astronomical Phenomena, Quasars, Microwave Background Radiation, Pulsars, Black Hole Candidates, Theory, Attributes, Measurement, daa4c677a05fed303666281728ea0ad0, 80696f9c39e776f362075d04666cdf7e, Two-Body System, Object, Spherical Mass, Ellipse, Center Of Mass, Focus, Periapsis, Perihelion, Major Axis, Space, Solar System, Planets, Precession, Orbit, Celestial Mechanics, Urbain Le Verrier, Transits Of Mercury, Sun'S Disk, Newton'S Theory, Arcseconds, Simon Newcomb, Mercury, Newtonian Effects, Mercury'S Orbit, 1859, Available Timed Observations, 1697, 1848, Actual Rate, 38″.\\nThe graph contains the following relationship types: MENTIONS, ALSO_KNOWN_AS, PUBLISHED_BY, DESCRIPTION_OF, GENERALIZES, REFINES, RELATED_TO, SPECIFIED_BY, PREDICTION_OF, OBSERVED_BY, PROVIDES_BASE_FOR, DEVELOPED, APPLIED_TO, PROPOSED, INCORPORATED_INTO, PRESENTED_TO, PRESENTED, ENCOMPASSES, APPLIES_TO, PROPOSED_BY, DEVELOPED_BY, SUPERSEDED_BY, CREATED_BY, INTRODUCED_CONCEPT, IMPROVED_SCIENCE_OF, USHERED_IN, PREDICTED_PHENOMENA_IN, PREDICTED_PHENOMENA, CONTRIBUTED_TO, USED_EXPRESSION_BY, UNDERSTOOD_AND_ACCEPTED_BY, USED_IN, APPLY_TO, STREAMLINED, EASILY_VISUALIZED, DISCOVERED, EXPLAINED, CONFIRMED, CONSISTS_OF, ORBITING, TRACES_OUT, AT_FOCUS_OF, POINT_OF_CLOSEST_APPROACH_OF, WHEN_CENTRAL_BODY_IS, REMAINS_FIXED_IN, ORBIT_AROUND, CAUSE, PRECESS_AROUND, ROTATE_ABOUT, CHANGING_ORIENTATION_IN, PERTURB, DEVIATES_FROM, PREDICTED_FROM, RATE_OF, PRECESSION_OF, FIRST_RECOGNIZED_IN, OF, OVER, FROM, TO, DISAGREED_FROM, PER_TROPICAL_CENTURY, RE-ESTIMATED_AT_43″_BY.\\nThe graph contains the following property keys: id, text, summary, source, title.\\n\\nNow answer the following question based on the information provided above:\\n\\nWhat is General Relativity related to?\\n\",\n",
       " 'result': 'General Relativity is related to Energy, Momentum, Matter, and Radiation.'}"
      ]
     },
     "execution_count": 11,
     "metadata": {},
     "output_type": "execute_result"
    }
   ],
   "source": [
    "query = \"What is General Relativity related to?\"\n",
    "\n",
    "prompt = f\"\"\"\n",
    "The graph contains {len(node_details)} nodes with the following IDs: {node_ids_str}.\n",
    "The graph contains the following relationship types: {relationship_types_str}.\n",
    "The graph contains the following property keys: {property_keys_str}.\n",
    "\n",
    "Now answer the following question based on the information provided above:\n",
    "\n",
    "{query}\n",
    "\"\"\"\n",
    "\n",
    "chain.invoke({\n",
    "    'query': prompt,\n",
    "})"
   ]
  },
  {
   "cell_type": "code",
   "execution_count": 90,
   "metadata": {},
   "outputs": [],
   "source": [
    "from yfiles_jupyter_graphs import GraphWidget\n",
    "from neo4j import GraphDatabase\n",
    "\n",
    "default_cypher = \"MATCH (s)-[r:!MENTIONS]->(t) RETURN s,r,t LIMIT 10000\"\n",
    "\n",
    "def showGraph(cypher: str = default_cypher):\n",
    "    # create a neo4j session to run queries\n",
    "    driver = GraphDatabase.driver(\n",
    "        # uri = os.environ[\"NEO4J_URI\"],\n",
    "        database=\"relativity\",\n",
    "        uri = \"neo4j://localhost:7687\",\n",
    "        auth = (os.environ[\"NEO4J_USERNAME\"],\n",
    "                os.environ[\"NEO4J_PASSWORD\"]))\n",
    "    session = driver.session()\n",
    "    widget = GraphWidget(graph = session.run(cypher).graph())\n",
    "    widget.node_label_mapping = 'id'\n",
    "    #display(widget)\n",
    "    return widget"
   ]
  },
  {
   "cell_type": "code",
   "execution_count": 91,
   "metadata": {},
   "outputs": [
    {
     "data": {
      "application/vnd.jupyter.widget-view+json": {
       "model_id": "24cd3e7ab26c45a291774b5a8f3e6dcb",
       "version_major": 2,
       "version_minor": 0
      },
      "text/plain": [
       "GraphWidget(layout=Layout(height='800px', width='100%'))"
      ]
     },
     "metadata": {},
     "output_type": "display_data"
    }
   ],
   "source": [
    "showGraph()"
   ]
  }
 ],
 "metadata": {
  "kernelspec": {
   "display_name": ".venv",
   "language": "python",
   "name": "python3"
  },
  "language_info": {
   "codemirror_mode": {
    "name": "ipython",
    "version": 3
   },
   "file_extension": ".py",
   "mimetype": "text/x-python",
   "name": "python",
   "nbconvert_exporter": "python",
   "pygments_lexer": "ipython3",
   "version": "3.12.3"
  }
 },
 "nbformat": 4,
 "nbformat_minor": 2
}
